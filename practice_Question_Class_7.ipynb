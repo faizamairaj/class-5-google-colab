{
  "nbformat": 4,
  "nbformat_minor": 0,
  "metadata": {
    "colab": {
      "provenance": [],
      "authorship_tag": "ABX9TyNyjqwYRYsiueXkI2a479qR",
      "include_colab_link": true
    },
    "kernelspec": {
      "name": "python3",
      "display_name": "Python 3"
    },
    "language_info": {
      "name": "python"
    }
  },
  "cells": [
    {
      "cell_type": "markdown",
      "metadata": {
        "id": "view-in-github",
        "colab_type": "text"
      },
      "source": [
        "<a href=\"https://colab.research.google.com/github/faizamairaj/class-5-google-colab/blob/main/practice_Question_Class_7.ipynb\" target=\"_parent\"><img src=\"https://colab.research.google.com/assets/colab-badge.svg\" alt=\"Open In Colab\"/></a>"
      ]
    },
    {
      "cell_type": "code",
      "source": [],
      "metadata": {
        "id": "ePwYR3-q1MJu"
      },
      "execution_count": null,
      "outputs": []
    },
    {
      "cell_type": "markdown",
      "source": [
        "*Python programming Exercises*\n",
        "### Python Exercises (Roman urdu)"
      ],
      "metadata": {
        "id": "jvHlDS3qjm3g"
      }
    },
    {
      "cell_type": "code",
      "source": [
        "# 1: Aik program likho jo 1 se 10 tk numbers print karen.\n",
        "\n",
        "for i in range(1,11):\n",
        "  print(i)"
      ],
      "metadata": {
        "colab": {
          "base_uri": "https://localhost:8080/"
        },
        "id": "JbhKxkinj2mW",
        "outputId": "57ca1ad3-c8a2-4e6f-a05b-daa0d3a1e33f"
      },
      "execution_count": 1,
      "outputs": [
        {
          "output_type": "stream",
          "name": "stdout",
          "text": [
            "1\n",
            "2\n",
            "3\n",
            "4\n",
            "5\n",
            "6\n",
            "7\n",
            "8\n",
            "9\n",
            "10\n"
          ]
        }
      ]
    },
    {
      "cell_type": "code",
      "source": [
        "# 2: Aik program likho jo user se aik number ley aur uska square print kare.\n",
        "\n",
        "number = int(input(\"Enter a number: \"))\n",
        "print(f\"The square of {number} is {number **2}\")"
      ],
      "metadata": {
        "colab": {
          "base_uri": "https://localhost:8080/"
        },
        "id": "3-YUpZ-akuzq",
        "outputId": "88b36f92-91df-48bf-b355-b4029eda0e51"
      },
      "execution_count": 6,
      "outputs": [
        {
          "output_type": "stream",
          "name": "stdout",
          "text": [
            "Enter a number: 4\n",
            "The square of 4 is 16\n"
          ]
        }
      ]
    },
    {
      "cell_type": "code",
      "source": [
        "# 3: Aik program likho jo do numbers ko add kare aur result print karen.\n",
        "\n",
        "num1 = int(input(\"Enter a first number: \"))\n",
        "num2 = int(input(\"Enter a second number: \"))\n",
        "\n",
        "print(f\"The sum of {num1} and {num2} is {num1 + num2}\")\n",
        "\n"
      ],
      "metadata": {
        "colab": {
          "base_uri": "https://localhost:8080/"
        },
        "id": "F7f7A-r_l3ZS",
        "outputId": "fab0c407-800f-406f-e89d-22d583cf9b5e"
      },
      "execution_count": 5,
      "outputs": [
        {
          "output_type": "stream",
          "name": "stdout",
          "text": [
            "Enter a first number: 5\n",
            "Enter a second number: 10\n",
            "The sum of 5 and 10 is 15\n"
          ]
        }
      ]
    },
    {
      "cell_type": "code",
      "source": [
        "# 4: Aik program likho jo user se naam ley aur \"Hello,[naam!]\" print kare.\n",
        "\n",
        "name = input(\"Enter your name:\")\n",
        "print(f\"Hello, {[name]}!\")\n",
        "\n"
      ],
      "metadata": {
        "colab": {
          "base_uri": "https://localhost:8080/"
        },
        "id": "o2WO6b7hnEJ2",
        "outputId": "79df8bdc-9bdf-4904-cb76-7424f8544e83"
      },
      "execution_count": 14,
      "outputs": [
        {
          "output_type": "stream",
          "name": "stdout",
          "text": [
            "Enter your name:faiza\n",
            "Hello, ['faiza']!\n"
          ]
        }
      ]
    },
    {
      "cell_type": "code",
      "source": [
        "def greet(name):\n",
        "  print(f\"Hello, {[name]}!\")\n",
        "\n",
        "name = input(\"Enter your name: \")\n",
        "greet(name)\n"
      ],
      "metadata": {
        "colab": {
          "base_uri": "https://localhost:8080/"
        },
        "id": "shi3XKdxpCtj",
        "outputId": "57983f84-1a96-4974-e850-5046c2559eed"
      },
      "execution_count": 20,
      "outputs": [
        {
          "output_type": "stream",
          "name": "stdout",
          "text": [
            "Enter your name: faiza\n",
            "Hello, ['faiza']!\n"
          ]
        }
      ]
    },
    {
      "cell_type": "code",
      "source": [
        "# 5: Aik program likho jo ek list mai majood tamam numbers ka sum nikalay.\n",
        "\n",
        "def list_sum(numbers):\n",
        "   return sum(numbers)\n",
        "\n",
        "list = [10, 20, 30, 40, 50]\n",
        "print(\"sum of list number is: \", list_sum(list))\n"
      ],
      "metadata": {
        "colab": {
          "base_uri": "https://localhost:8080/"
        },
        "id": "QPgn2JBCp22v",
        "outputId": "ca4a9678-bbdf-4958-8ef8-85e6ba9a007c"
      },
      "execution_count": 24,
      "outputs": [
        {
          "output_type": "stream",
          "name": "stdout",
          "text": [
            "sum of list number is:  150\n"
          ]
        }
      ]
    },
    {
      "cell_type": "code",
      "source": [
        "# 6: Aik program likho jo user se ek string ley aur reverse kare.\n",
        "\n",
        "user_input = input(\"Enter a name: \")\n",
        "print (f\"The reverse of {user_input} is {user_input[:: -1]}\")"
      ],
      "metadata": {
        "colab": {
          "base_uri": "https://localhost:8080/"
        },
        "id": "jbD3z1KKuUQ6",
        "outputId": "24bb041c-f9c3-4919-c1f5-62158326094e"
      },
      "execution_count": 26,
      "outputs": [
        {
          "output_type": "stream",
          "name": "stdout",
          "text": [
            "Enter a name: faiza\n",
            "The reverse of faiza is aziaf\n"
          ]
        }
      ]
    },
    {
      "cell_type": "code",
      "source": [
        "def reverse_string(string):\n",
        "  return string[::-1]\n",
        "\n",
        "user_input = input(\"Enter a name: \")\n",
        "print(f\"The reverse of {user_input} is {reverse_string(user_input)}\")"
      ],
      "metadata": {
        "colab": {
          "base_uri": "https://localhost:8080/"
        },
        "id": "MHhHlePZv14x",
        "outputId": "b73dc614-67b5-432c-a2aa-68d066c74c3c"
      },
      "execution_count": 27,
      "outputs": [
        {
          "output_type": "stream",
          "name": "stdout",
          "text": [
            "Enter a name: hina\n",
            "The reverse of hina is anih\n"
          ]
        }
      ]
    },
    {
      "cell_type": "code",
      "source": [
        "# 7: aik program likho jo ek list mai majood sabse bara number dhoonday.\n",
        "\n",
        "def Find_Max(numbers):\n",
        "  return max(numbers)\n",
        "\n",
        "list = [10, 20, 30, 40, 50]\n",
        "print (f\"The biggest number in the list is {Find_Max(list)}\")"
      ],
      "metadata": {
        "colab": {
          "base_uri": "https://localhost:8080/"
        },
        "id": "WVuC9hQOwZTm",
        "outputId": "61a0787f-1720-4466-b2f9-daa6c1981960"
      },
      "execution_count": 28,
      "outputs": [
        {
          "output_type": "stream",
          "name": "stdout",
          "text": [
            "The biggest number in the list is 50\n"
          ]
        }
      ]
    }
  ]
}