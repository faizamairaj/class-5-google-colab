{
  "nbformat": 4,
  "nbformat_minor": 0,
  "metadata": {
    "colab": {
      "private_outputs": true,
      "provenance": [],
      "authorship_tag": "ABX9TyPDVE7LzmbIM6PQ1uEIsfuk",
      "include_colab_link": true
    },
    "kernelspec": {
      "name": "python3",
      "display_name": "Python 3"
    },
    "language_info": {
      "name": "python"
    }
  },
  "cells": [
    {
      "cell_type": "markdown",
      "metadata": {
        "id": "view-in-github",
        "colab_type": "text"
      },
      "source": [
        "<a href=\"https://colab.research.google.com/github/faizamairaj/class-5-google-colab/blob/main/class_6.ipynb\" target=\"_parent\"><img src=\"https://colab.research.google.com/assets/colab-badge.svg\" alt=\"Open In Colab\"/></a>"
      ]
    },
    {
      "cell_type": "code",
      "execution_count": null,
      "metadata": {
        "id": "svzXNydqh5lt"
      },
      "outputs": [],
      "source": [
        "try:\n",
        " a = 10 / 0\n",
        " print(a)\n",
        "\n",
        "except ZeroDivisionError :\n",
        "  print(\"ZeroDivisionError \")\n"
      ]
    },
    {
      "cell_type": "code",
      "source": [
        "try:\n",
        "  user = int(input('Enter a number:'))\n",
        "  a = 2 / user\n",
        "\n",
        "except ZeroDivisionError :\n",
        "  print(\"ZeroDivisionError \")\n",
        "\n",
        "except ValueError:\n",
        "  print(\"Invalid Input\")\n",
        "else:\n",
        "  print(a)\n",
        "finally:\n",
        "   print(\"program end...\")"
      ],
      "metadata": {
        "id": "LOOPxu_1OI73"
      },
      "execution_count": null,
      "outputs": []
    },
    {
      "cell_type": "markdown",
      "source": [
        "# The List of Maximum Numbers:"
      ],
      "metadata": {
        "id": "HvcdHGbLOTf9"
      }
    },
    {
      "cell_type": "code",
      "source": [
        "numbers = [88,99,77,66,77,33]\n",
        "\n",
        "def Find_Max(list):\n",
        "    max = list[0]\n",
        "    for i in list:\n",
        "        if i > max:\n",
        "            max = i\n",
        "    indx = numbers.index(max)\n",
        "    print(indx)\n",
        "    print(max)\n",
        "\n",
        "Find_Max(numbers)"
      ],
      "metadata": {
        "id": "7-BgGYjuOaiM"
      },
      "execution_count": null,
      "outputs": []
    },
    {
      "cell_type": "code",
      "source": [
        "numbers = [88, 99, 77, 66, 77, 33]\n",
        "\n",
        "def Find_Indexes(lst):\n",
        "    for index, value in enumerate(lst):\n",
        "        print(f\"Index: {index}, Value: {value}\")\n",
        "\n",
        "Find_Indexes(numbers)"
      ],
      "metadata": {
        "id": "Tg3yIo3wOhUp"
      },
      "execution_count": null,
      "outputs": []
    }
  ]
}