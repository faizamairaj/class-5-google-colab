{
  "nbformat": 4,
  "nbformat_minor": 0,
  "metadata": {
    "colab": {
      "provenance": [],
      "authorship_tag": "ABX9TyMGK1LyNkjrZ/+/1ylA+Nry",
      "include_colab_link": true
    },
    "kernelspec": {
      "name": "python3",
      "display_name": "Python 3"
    },
    "language_info": {
      "name": "python"
    }
  },
  "cells": [
    {
      "cell_type": "markdown",
      "metadata": {
        "id": "view-in-github",
        "colab_type": "text"
      },
      "source": [
        "<a href=\"https://colab.research.google.com/github/faizamairaj/class-5-google-colab/blob/main/practice.ipynb\" target=\"_parent\"><img src=\"https://colab.research.google.com/assets/colab-badge.svg\" alt=\"Open In Colab\"/></a>"
      ]
    },
    {
      "cell_type": "code",
      "source": [],
      "metadata": {
        "id": "ePwYR3-q1MJu"
      },
      "execution_count": null,
      "outputs": []
    },
    {
      "cell_type": "markdown",
      "source": [
        "##            **using calculator**"
      ],
      "metadata": {
        "id": "h6lSf_8a3q2j"
      }
    },
    {
      "cell_type": "code",
      "source": [
        "         # +, -, *, /, %\n",
        "\n",
        "def Calculator(first_num, second_num, operation):\n",
        "  if operation == '+':\n",
        "    print(first_num + second_num)\n",
        "  elif operation == '-':\n",
        "    print(first_num - second_num)\n",
        "  elif operation == '*':\n",
        "    print(first_num * second_num)\n",
        "  elif operation == '/':\n",
        "    print(first_num // second_num)\n",
        "  elif operation == '%':\n",
        "    print(first_num % second_num)\n",
        "  else:\n",
        "    print('invalid operation')\n",
        "\n",
        "firstNum = int(input('Enter first number: '))\n",
        "secondNum = int(input('Enter second number: '))\n",
        "operation = (input('Enter operator: '))\n",
        "Calculator(firstNum, secondNum, operation)\n",
        "\n",
        "\n"
      ],
      "metadata": {
        "colab": {
          "base_uri": "https://localhost:8080/"
        },
        "id": "Qvvs92Kx4Fn4",
        "outputId": "a87ca7b8-a8ec-4487-9e21-f3e61bc03373"
      },
      "execution_count": 16,
      "outputs": [
        {
          "output_type": "stream",
          "name": "stdout",
          "text": [
            "Enter first number: 5\n",
            "Enter second number: 6\n",
            "Enter operation: /\n",
            "0\n"
          ]
        }
      ]
    },
    {
      "cell_type": "code",
      "source": [],
      "metadata": {
        "id": "YfyfcZBh38sz"
      },
      "execution_count": null,
      "outputs": []
    }
  ]
}