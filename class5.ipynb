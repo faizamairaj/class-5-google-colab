{
  "nbformat": 4,
  "nbformat_minor": 0,
  "metadata": {
    "colab": {
      "provenance": [],
      "authorship_tag": "ABX9TyP/rtpJXjJ+xLCdD8jaXygU",
      "include_colab_link": true
    },
    "kernelspec": {
      "name": "python3",
      "display_name": "Python 3"
    },
    "language_info": {
      "name": "python"
    }
  },
  "cells": [
    {
      "cell_type": "markdown",
      "metadata": {
        "id": "view-in-github",
        "colab_type": "text"
      },
      "source": [
        "<a href=\"https://colab.research.google.com/github/faizamairaj/class-5-google-colab/blob/main/class5.ipynb\" target=\"_parent\"><img src=\"https://colab.research.google.com/assets/colab-badge.svg\" alt=\"Open In Colab\"/></a>"
      ]
    },
    {
      "cell_type": "code",
      "execution_count": null,
      "metadata": {
        "colab": {
          "base_uri": "https://localhost:8080/"
        },
        "id": "6cnNfuAfmMFN",
        "outputId": "5fb5d674-ef39-4de6-b5ad-626aabe33983"
      },
      "outputs": [
        {
          "output_type": "stream",
          "name": "stdout",
          "text": [
            "1\n",
            "2\n",
            "3\n",
            "4\n",
            "5\n",
            "6\n",
            "7\n",
            "8\n",
            "9\n",
            "10\n"
          ]
        }
      ],
      "source": [
        "# numbers for loop\n",
        "numbers = [1,2,3,4,5,6,7,8,9,10]\n",
        "for i in numbers:\n",
        "  print(i)"
      ]
    },
    {
      "cell_type": "code",
      "source": [
        "# list for loop\n",
        "frdsList = [\"ifra\", \"jannat\", \"kainat\", \"iqra\", \"hajra\"]\n",
        "for i in frdsList:\n",
        "  print(i)"
      ],
      "metadata": {
        "colab": {
          "base_uri": "https://localhost:8080/"
        },
        "id": "irV1Zncsr4UY",
        "outputId": "2335d6b6-b3a7-4b17-cd4c-5cccdc16424e"
      },
      "execution_count": null,
      "outputs": [
        {
          "output_type": "stream",
          "name": "stdout",
          "text": [
            "ifra\n",
            "jannat\n",
            "kainat\n",
            "iqra\n",
            "hajra\n"
          ]
        }
      ]
    },
    {
      "cell_type": "code",
      "source": [
        "# range(stop)-> range object\n",
        "for i in range( 0,10,3):\n",
        "  print(i)"
      ],
      "metadata": {
        "colab": {
          "base_uri": "https://localhost:8080/"
        },
        "id": "xkkmiH7xsxCu",
        "outputId": "7aa244f7-a4cb-4303-94ab-a5838e2da537"
      },
      "execution_count": null,
      "outputs": [
        {
          "output_type": "stream",
          "name": "stdout",
          "text": [
            "0\n",
            "3\n",
            "6\n",
            "9\n"
          ]
        }
      ]
    },
    {
      "cell_type": "code",
      "source": [
        " # (count-down-timer)\n",
        "import time\n",
        "for i in range(10,0,-1):\n",
        "  time.sleep(1)\n",
        "  print(i)"
      ],
      "metadata": {
        "colab": {
          "base_uri": "https://localhost:8080/"
        },
        "id": "RZrxPr68vMUK",
        "outputId": "9127ed54-f2a2-489e-fde0-3732bad8155c"
      },
      "execution_count": null,
      "outputs": [
        {
          "output_type": "stream",
          "name": "stdout",
          "text": [
            "10\n",
            "9\n",
            "8\n",
            "7\n",
            "6\n",
            "5\n",
            "4\n",
            "3\n",
            "2\n",
            "1\n"
          ]
        }
      ]
    },
    {
      "cell_type": "code",
      "source": [
        "# Assignment for find the max number of list:\n",
        "findNum = [88,99,55,86,23,77,88]\n",
        "num = max(findNum)\n",
        "print(num,[1])\n"
      ],
      "metadata": {
        "colab": {
          "base_uri": "https://localhost:8080/"
        },
        "id": "ptwODd-h4cop",
        "outputId": "9df8f1fc-d338-45de-dd91-6b87d1a5f1b9"
      },
      "execution_count": null,
      "outputs": [
        {
          "output_type": "stream",
          "name": "stdout",
          "text": [
            "99 [1]\n"
          ]
        }
      ]
    }
  ]
}